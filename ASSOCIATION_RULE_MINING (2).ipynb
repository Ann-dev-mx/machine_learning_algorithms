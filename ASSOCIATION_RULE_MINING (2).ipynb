{
  "nbformat": 4,
  "nbformat_minor": 0,
  "metadata": {
    "colab": {
      "name": "ASSOCIATION RULE MINING.ipynb",
      "provenance": []
    },
    "kernelspec": {
      "name": "python3",
      "display_name": "Python 3"
    },
    "language_info": {
      "name": "python"
    }
  },
  "cells": [
    {
      "cell_type": "markdown",
      "metadata": {
        "id": "c7LakHlcYVsm"
      },
      "source": [
        "ASSOCIATION RULE MINING :\n",
        "\n",
        "20MCS1008\n",
        "\n",
        "ANN MARIYA XAVIER"
      ]
    },
    {
      "cell_type": "code",
      "metadata": {
        "id": "RTvvzPd1YRlI"
      },
      "source": [
        "import pandas as pd\n",
        "from itertools import combinations\n",
        "import numpy as np"
      ],
      "execution_count": 1,
      "outputs": []
    },
    {
      "cell_type": "code",
      "metadata": {
        "id": "gr7PduIiYpmw"
      },
      "source": [
        "data=[['A,B,E'],['B,D,E'],['A,C'],['A,B,D'],['A,D'],['B,C'],['A,C'],['A,C,D,E'],['A,B,C']]\n",
        "df=pd.DataFrame(data, columns = ['List_of_items'])\n"
      ],
      "execution_count": 3,
      "outputs": []
    },
    {
      "cell_type": "code",
      "metadata": {
        "colab": {
          "base_uri": "https://localhost:8080/",
          "height": 314
        },
        "id": "ilNU6_vYZWSl",
        "outputId": "f79c4c75-734c-46ac-a48a-42e845eb3a5c"
      },
      "source": [
        "df"
      ],
      "execution_count": 4,
      "outputs": [
        {
          "output_type": "execute_result",
          "data": {
            "text/html": [
              "<div>\n",
              "<style scoped>\n",
              "    .dataframe tbody tr th:only-of-type {\n",
              "        vertical-align: middle;\n",
              "    }\n",
              "\n",
              "    .dataframe tbody tr th {\n",
              "        vertical-align: top;\n",
              "    }\n",
              "\n",
              "    .dataframe thead th {\n",
              "        text-align: right;\n",
              "    }\n",
              "</style>\n",
              "<table border=\"1\" class=\"dataframe\">\n",
              "  <thead>\n",
              "    <tr style=\"text-align: right;\">\n",
              "      <th></th>\n",
              "      <th>List_of_items</th>\n",
              "    </tr>\n",
              "  </thead>\n",
              "  <tbody>\n",
              "    <tr>\n",
              "      <th>0</th>\n",
              "      <td>A,B,E</td>\n",
              "    </tr>\n",
              "    <tr>\n",
              "      <th>1</th>\n",
              "      <td>B,D,E</td>\n",
              "    </tr>\n",
              "    <tr>\n",
              "      <th>2</th>\n",
              "      <td>A,C</td>\n",
              "    </tr>\n",
              "    <tr>\n",
              "      <th>3</th>\n",
              "      <td>A,B,D</td>\n",
              "    </tr>\n",
              "    <tr>\n",
              "      <th>4</th>\n",
              "      <td>A,D</td>\n",
              "    </tr>\n",
              "    <tr>\n",
              "      <th>5</th>\n",
              "      <td>B,C</td>\n",
              "    </tr>\n",
              "    <tr>\n",
              "      <th>6</th>\n",
              "      <td>A,C</td>\n",
              "    </tr>\n",
              "    <tr>\n",
              "      <th>7</th>\n",
              "      <td>A,C,D,E</td>\n",
              "    </tr>\n",
              "    <tr>\n",
              "      <th>8</th>\n",
              "      <td>A,B,C</td>\n",
              "    </tr>\n",
              "  </tbody>\n",
              "</table>\n",
              "</div>"
            ],
            "text/plain": [
              "  List_of_items\n",
              "0         A,B,E\n",
              "1         B,D,E\n",
              "2           A,C\n",
              "3         A,B,D\n",
              "4           A,D\n",
              "5           B,C\n",
              "6           A,C\n",
              "7       A,C,D,E\n",
              "8         A,B,C"
            ]
          },
          "metadata": {
            "tags": []
          },
          "execution_count": 4
        }
      ]
    },
    {
      "cell_type": "code",
      "metadata": {
        "colab": {
          "base_uri": "https://localhost:8080/"
        },
        "id": "ewRuQh5uZYjd",
        "outputId": "35e30415-b331-4249-aea3-03b7481f6ee9"
      },
      "source": [
        "index = df.index\n",
        "no_of_transactions = len(index)\n",
        "no_of_transactions"
      ],
      "execution_count": 5,
      "outputs": [
        {
          "output_type": "execute_result",
          "data": {
            "text/plain": [
              "9"
            ]
          },
          "metadata": {
            "tags": []
          },
          "execution_count": 5
        }
      ]
    },
    {
      "cell_type": "code",
      "metadata": {
        "colab": {
          "base_uri": "https://localhost:8080/"
        },
        "id": "yfOnw930Zd_n",
        "outputId": "750ef4af-1e4f-4b26-97c3-de7e68ed2768"
      },
      "source": [
        "min_support=(20/100)*9\n",
        "min_support"
      ],
      "execution_count": 7,
      "outputs": [
        {
          "output_type": "execute_result",
          "data": {
            "text/plain": [
              "1.8"
            ]
          },
          "metadata": {
            "tags": []
          },
          "execution_count": 7
        }
      ]
    },
    {
      "cell_type": "code",
      "metadata": {
        "colab": {
          "base_uri": "https://localhost:8080/"
        },
        "id": "OfwcBun9ZjW-",
        "outputId": "142b9577-23d8-4d21-afe2-45ac006abe56"
      },
      "source": [
        "Candidate_set = []\n",
        "Frequent_set = []\n",
        "items = pd.unique(df.values.ravel('K'))\n",
        "items = items[~pd.isnull(items)]\n",
        "\n",
        "\n",
        "for iterno in range(1,len(items)): \n",
        "    Count = {}\n",
        "    intermediate = []\n",
        "    \n",
        "    if iterno==1:\n",
        "        Candidate_set.append(items)\n",
        "        for txn in Candidate_set[iterno-1]:\n",
        "            ctr=0\n",
        "            for val in df.values:\n",
        "                if txn in val:\n",
        "                    ctr+=1\n",
        "            Count[txn] = ctr\n",
        "    else:\n",
        "        Candidate_set.append(list(combinations(np.unique(np.array(Frequent_set[iterno-2]).ravel('K')),iterno)))\n",
        "        for txn in Candidate_set[iterno-1]:\n",
        "            ctr = 0\n",
        "            for val in df.values:\n",
        "                if all(i in val for i in txn):\n",
        "                    ctr+=1\n",
        "            Count[txn] = ctr\n",
        "            \n",
        "    for k in Count.keys():\n",
        "        if Count[k] >= min_support:\n",
        "            intermediate.append(k)\n",
        "\n",
        "    if intermediate == []:\n",
        "        print(Frequent_set)\n",
        "        break\n",
        "\n",
        "    Frequent_set.append(intermediate)"
      ],
      "execution_count": 8,
      "outputs": [
        {
          "output_type": "stream",
          "text": [
            "[['A,C']]\n"
          ],
          "name": "stdout"
        }
      ]
    }
  ]
}
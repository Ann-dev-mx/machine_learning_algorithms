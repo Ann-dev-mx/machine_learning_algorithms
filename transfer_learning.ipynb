{
  "nbformat": 4,
  "nbformat_minor": 0,
  "metadata": {
    "colab": {
      "name": "transfer_learning.ipynb",
      "provenance": [],
      "collapsed_sections": []
    },
    "kernelspec": {
      "name": "python3",
      "display_name": "Python 3"
    },
    "language_info": {
      "name": "python"
    },
    "accelerator": "GPU"
  },
  "cells": [
    {
      "cell_type": "markdown",
      "metadata": {
        "id": "miUtF1qfNLPP"
      },
      "source": [
        "**CNN Transfer Learning** to detect image is forged or not using casia12 dataset."
      ]
    },
    {
      "cell_type": "code",
      "metadata": {
        "id": "ci17MIZeiWxa"
      },
      "source": [
        "from tensorflow.keras.layers import *\n",
        "from tensorflow.keras.models import * \n",
        "from zipfile import ZipFile\n",
        "from PIL import Image, ImageChops, ImageEnhance\n",
        "import os\n",
        "import itertools"
      ],
      "execution_count": 24,
      "outputs": []
    },
    {
      "cell_type": "code",
      "metadata": {
        "colab": {
          "base_uri": "https://localhost:8080/"
        },
        "id": "sIYj0aLxig05",
        "outputId": "cee3c5ea-0116-4837-a52e-94257d9e6473"
      },
      "source": [
        "from google.colab import drive\n",
        "drive.mount('/content/drive')"
      ],
      "execution_count": 25,
      "outputs": [
        {
          "output_type": "stream",
          "text": [
            "Drive already mounted at /content/drive; to attempt to forcibly remount, call drive.mount(\"/content/drive\", force_remount=True).\n"
          ],
          "name": "stdout"
        }
      ]
    },
    {
      "cell_type": "code",
      "metadata": {
        "id": "YbyZvb9fisN6"
      },
      "source": [
        "filenames = \"/content/drive/My Drive/data12\""
      ],
      "execution_count": 26,
      "outputs": []
    },
    {
      "cell_type": "code",
      "metadata": {
        "id": "MKdsRwabi2DB"
      },
      "source": [
        "import numpy as np\n",
        "import pandas as pd \n",
        "import tensorflow as tf\n",
        "import zipfile\n",
        "from keras.preprocessing.image import ImageDataGenerator, load_img\n",
        "from keras.utils import to_categorical\n",
        "from keras.models import Sequential\n",
        "from keras.layers import Conv2D, MaxPooling2D, Dropout, Flatten, Dense, Activation, BatchNormalization\n",
        "from sklearn.model_selection import train_test_split\n",
        "import matplotlib.pyplot as plt\n",
        "import random\n",
        "import os"
      ],
      "execution_count": 27,
      "outputs": []
    },
    {
      "cell_type": "code",
      "metadata": {
        "colab": {
          "base_uri": "https://localhost:8080/",
          "height": 198
        },
        "id": "QBavhaqvi8pB",
        "outputId": "d47bb3d7-5705-42c6-8c4c-4ae535109016"
      },
      "source": [
        "filenames = os.listdir(\"/content/drive/My Drive/data12/train\")\n",
        "\n",
        "categories = []\n",
        "\n",
        "for file_name in filenames:\n",
        "    if file_name.split('_')[0] == 'Au':\n",
        "        categories.append(1)\n",
        "    else:\n",
        "        categories.append(0)\n",
        "        \n",
        "df = pd.DataFrame({\n",
        "    'filename' : filenames,\n",
        "    'category' : categories\n",
        "})\n",
        "\n",
        "df.head()"
      ],
      "execution_count": 28,
      "outputs": [
        {
          "output_type": "execute_result",
          "data": {
            "text/html": [
              "<div>\n",
              "<style scoped>\n",
              "    .dataframe tbody tr th:only-of-type {\n",
              "        vertical-align: middle;\n",
              "    }\n",
              "\n",
              "    .dataframe tbody tr th {\n",
              "        vertical-align: top;\n",
              "    }\n",
              "\n",
              "    .dataframe thead th {\n",
              "        text-align: right;\n",
              "    }\n",
              "</style>\n",
              "<table border=\"1\" class=\"dataframe\">\n",
              "  <thead>\n",
              "    <tr style=\"text-align: right;\">\n",
              "      <th></th>\n",
              "      <th>filename</th>\n",
              "      <th>category</th>\n",
              "    </tr>\n",
              "  </thead>\n",
              "  <tbody>\n",
              "    <tr>\n",
              "      <th>0</th>\n",
              "      <td>Au_ani_00010.jpg</td>\n",
              "      <td>1</td>\n",
              "    </tr>\n",
              "    <tr>\n",
              "      <th>1</th>\n",
              "      <td>Au_ani_00023.jpg</td>\n",
              "      <td>1</td>\n",
              "    </tr>\n",
              "    <tr>\n",
              "      <th>2</th>\n",
              "      <td>Au_ani_00015.jpg</td>\n",
              "      <td>1</td>\n",
              "    </tr>\n",
              "    <tr>\n",
              "      <th>3</th>\n",
              "      <td>Au_ani_00018.jpg</td>\n",
              "      <td>1</td>\n",
              "    </tr>\n",
              "    <tr>\n",
              "      <th>4</th>\n",
              "      <td>Au_ani_00007.jpg</td>\n",
              "      <td>1</td>\n",
              "    </tr>\n",
              "  </tbody>\n",
              "</table>\n",
              "</div>"
            ],
            "text/plain": [
              "           filename  category\n",
              "0  Au_ani_00010.jpg         1\n",
              "1  Au_ani_00023.jpg         1\n",
              "2  Au_ani_00015.jpg         1\n",
              "3  Au_ani_00018.jpg         1\n",
              "4  Au_ani_00007.jpg         1"
            ]
          },
          "metadata": {
            "tags": []
          },
          "execution_count": 28
        }
      ]
    },
    {
      "cell_type": "code",
      "metadata": {
        "colab": {
          "base_uri": "https://localhost:8080/",
          "height": 198
        },
        "id": "uBlL-bWczGIV",
        "outputId": "98e7c4aa-a077-4910-84ff-89999915fb47"
      },
      "source": [
        "df.tail()"
      ],
      "execution_count": 29,
      "outputs": [
        {
          "output_type": "execute_result",
          "data": {
            "text/html": [
              "<div>\n",
              "<style scoped>\n",
              "    .dataframe tbody tr th:only-of-type {\n",
              "        vertical-align: middle;\n",
              "    }\n",
              "\n",
              "    .dataframe tbody tr th {\n",
              "        vertical-align: top;\n",
              "    }\n",
              "\n",
              "    .dataframe thead th {\n",
              "        text-align: right;\n",
              "    }\n",
              "</style>\n",
              "<table border=\"1\" class=\"dataframe\">\n",
              "  <thead>\n",
              "    <tr style=\"text-align: right;\">\n",
              "      <th></th>\n",
              "      <th>filename</th>\n",
              "      <th>category</th>\n",
              "    </tr>\n",
              "  </thead>\n",
              "  <tbody>\n",
              "    <tr>\n",
              "      <th>795</th>\n",
              "      <td>Tp_S_NRN_S_B_arc00029_arc00029_01093.tif</td>\n",
              "      <td>0</td>\n",
              "    </tr>\n",
              "    <tr>\n",
              "      <th>796</th>\n",
              "      <td>Tp_S_NRN_S_B_arc00054_arc00054_01072.tif</td>\n",
              "      <td>0</td>\n",
              "    </tr>\n",
              "    <tr>\n",
              "      <th>797</th>\n",
              "      <td>Tp_S_NRN_S_B_arc00053_arc00053_00273.tif</td>\n",
              "      <td>0</td>\n",
              "    </tr>\n",
              "    <tr>\n",
              "      <th>798</th>\n",
              "      <td>Tp_S_NRN_S_B_arc00052_arc00052_01074.tif</td>\n",
              "      <td>0</td>\n",
              "    </tr>\n",
              "    <tr>\n",
              "      <th>799</th>\n",
              "      <td>Tp_S_NRN_S_B_arc20011_arc20011_01464.tif</td>\n",
              "      <td>0</td>\n",
              "    </tr>\n",
              "  </tbody>\n",
              "</table>\n",
              "</div>"
            ],
            "text/plain": [
              "                                     filename  category\n",
              "795  Tp_S_NRN_S_B_arc00029_arc00029_01093.tif         0\n",
              "796  Tp_S_NRN_S_B_arc00054_arc00054_01072.tif         0\n",
              "797  Tp_S_NRN_S_B_arc00053_arc00053_00273.tif         0\n",
              "798  Tp_S_NRN_S_B_arc00052_arc00052_01074.tif         0\n",
              "799  Tp_S_NRN_S_B_arc20011_arc20011_01464.tif         0"
            ]
          },
          "metadata": {
            "tags": []
          },
          "execution_count": 29
        }
      ]
    },
    {
      "cell_type": "code",
      "metadata": {
        "colab": {
          "base_uri": "https://localhost:8080/",
          "height": 296
        },
        "id": "PhYVx8N4mkHz",
        "outputId": "ed668bb0-21f9-4b1b-9522-a8b8759c200e"
      },
      "source": [
        "import seaborn as sns\n",
        "\n",
        "sns.countplot(x = 'category', data = df)"
      ],
      "execution_count": 30,
      "outputs": [
        {
          "output_type": "execute_result",
          "data": {
            "text/plain": [
              "<matplotlib.axes._subplots.AxesSubplot at 0x7f12f0033350>"
            ]
          },
          "metadata": {
            "tags": []
          },
          "execution_count": 30
        },
        {
          "output_type": "display_data",
          "data": {
            "image/png": "[encoded data removed]",
            "text/plain": [
              "<Figure size 432x288 with 1 Axes>"
            ]
          },
          "metadata": {
            "tags": [],
            "needs_background": "light"
          }
        }
      ]
    },
    {
      "cell_type": "code",
      "metadata": {
        "id": "HIMaagiam_Bo"
      },
      "source": [
        "import tensorflow as tf\n",
        "from tensorflow import keras\n",
        "from tensorflow.keras import layers"
      ],
      "execution_count": 31,
      "outputs": []
    },
    {
      "cell_type": "code",
      "metadata": {
        "id": "vIuQxFaHi-Sh"
      },
      "source": [
        "image_size = 400\n",
        "\n",
        "input_shape = (image_size, image_size, 3)"
      ],
      "execution_count": 49,
      "outputs": []
    },
    {
      "cell_type": "markdown",
      "metadata": {
        "id": "1AHAiYG7NBdp"
      },
      "source": [
        "Traditional cnn model\n"
      ]
    },
    {
      "cell_type": "code",
      "metadata": {
        "colab": {
          "base_uri": "https://localhost:8080/"
        },
        "id": "1vh0cG-GjQ_h",
        "outputId": "a07c2960-7f12-4f97-8cdd-3ddb36ed2f14"
      },
      "source": [
        "simple_model = keras.Sequential([\n",
        "    \n",
        "    layers.Conv2D(filters = 32, kernel_size = 3, activation = 'relu', input_shape = input_shape),\n",
        "    layers.BatchNormalization(),\n",
        "    layers.MaxPool2D(),\n",
        "    layers.Dropout(0.25),\n",
        "    \n",
        "    layers.Conv2D(filters = 64, kernel_size = 3, activation = 'relu'),\n",
        "    layers.BatchNormalization(),\n",
        "    layers.MaxPool2D(),\n",
        "    layers.Dropout(0.25),\n",
        "    \n",
        "    layers.Conv2D(filters = 128, kernel_size = 3, activation = 'relu'),\n",
        "    layers.BatchNormalization(),\n",
        "    layers.MaxPool2D(),\n",
        "    layers.Dropout(0.25),\n",
        "    \n",
        "    layers.Flatten(),\n",
        "    \n",
        "    layers.Dense(512, activation = 'relu'),\n",
        "    layers.BatchNormalization(),\n",
        "    layers.Dropout(0.25),\n",
        "    \n",
        "    layers.Dense(1, activation = 'sigmoid'),\n",
        "    \n",
        "    \n",
        "])\n",
        "\n",
        "simple_model.summary()"
      ],
      "execution_count": 50,
      "outputs": [
        {
          "output_type": "stream",
          "text": [
            "Model: \"sequential_3\"\n",
            "_________________________________________________________________\n",
            "Layer (type)                 Output Shape              Param #   \n",
            "=================================================================\n",
            "conv2d_9 (Conv2D)            (None, 398, 398, 32)      896       \n",
            "_________________________________________________________________\n",
            "batch_normalization_12 (Batc (None, 398, 398, 32)      128       \n",
            "_________________________________________________________________\n",
            "max_pooling2d_9 (MaxPooling2 (None, 199, 199, 32)      0         \n",
            "_________________________________________________________________\n",
            "dropout_14 (Dropout)         (None, 199, 199, 32)      0         \n",
            "_________________________________________________________________\n",
            "conv2d_10 (Conv2D)           (None, 197, 197, 64)      18496     \n",
            "_________________________________________________________________\n",
            "batch_normalization_13 (Batc (None, 197, 197, 64)      256       \n",
            "_________________________________________________________________\n",
            "max_pooling2d_10 (MaxPooling (None, 98, 98, 64)        0         \n",
            "_________________________________________________________________\n",
            "dropout_15 (Dropout)         (None, 98, 98, 64)        0         \n",
            "_________________________________________________________________\n",
            "conv2d_11 (Conv2D)           (None, 96, 96, 128)       73856     \n",
            "_________________________________________________________________\n",
            "batch_normalization_14 (Batc (None, 96, 96, 128)       512       \n",
            "_________________________________________________________________\n",
            "max_pooling2d_11 (MaxPooling (None, 48, 48, 128)       0         \n",
            "_________________________________________________________________\n",
            "dropout_16 (Dropout)         (None, 48, 48, 128)       0         \n",
            "_________________________________________________________________\n",
            "flatten_5 (Flatten)          (None, 294912)            0         \n",
            "_________________________________________________________________\n",
            "dense_10 (Dense)             (None, 512)               150995456 \n",
            "_________________________________________________________________\n",
            "batch_normalization_15 (Batc (None, 512)               2048      \n",
            "_________________________________________________________________\n",
            "dropout_17 (Dropout)         (None, 512)               0         \n",
            "_________________________________________________________________\n",
            "dense_11 (Dense)             (None, 1)                 513       \n",
            "=================================================================\n",
            "Total params: 151,092,161\n",
            "Trainable params: 151,090,689\n",
            "Non-trainable params: 1,472\n",
            "_________________________________________________________________\n"
          ],
          "name": "stdout"
        }
      ]
    },
    {
      "cell_type": "code",
      "metadata": {
        "id": "xrdyLbGcjcRC"
      },
      "source": [
        "simple_model.compile(loss = 'binary_crossentropy', optimizer = 'adam', metrics = ['accuracy'])"
      ],
      "execution_count": 51,
      "outputs": []
    },
    {
      "cell_type": "code",
      "metadata": {
        "id": "LxkE29zn0LRW"
      },
      "source": [
        "df[\"category\"] = df[\"category\"].replace({0: 'Tp', 1: 'Au'})"
      ],
      "execution_count": 52,
      "outputs": []
    },
    {
      "cell_type": "code",
      "metadata": {
        "id": "h_TwEVAh0WgN"
      },
      "source": [
        "from sklearn.model_selection import train_test_split\n",
        "\n",
        "train_df, validate_df = train_test_split(df, test_size = 0.2)\n",
        "train_df = train_df.reset_index()\n",
        "validate_df = validate_df.reset_index()"
      ],
      "execution_count": 53,
      "outputs": []
    },
    {
      "cell_type": "code",
      "metadata": {
        "id": "sF05IPf40otl"
      },
      "source": [
        "train_datagen = ImageDataGenerator(\n",
        "    \n",
        "    rescale = 1./255,\n",
        "    rotation_range = 15, \n",
        "    shear_range = 0.1,\n",
        "    zoom_range = 0.2,\n",
        "    horizontal_flip = True,\n",
        "    width_shift_range = 0.1,\n",
        "    height_shift_range = 0.1,\n",
        ")"
      ],
      "execution_count": 54,
      "outputs": []
    },
    {
      "cell_type": "code",
      "metadata": {
        "id": "S9hMLDyd0qkV"
      },
      "source": [
        "validation_datagen = ImageDataGenerator(rescale = 1./255)"
      ],
      "execution_count": 55,
      "outputs": []
    },
    {
      "cell_type": "code",
      "metadata": {
        "id": "5G_H4sfS0t49"
      },
      "source": [
        "batch_size = 20"
      ],
      "execution_count": 56,
      "outputs": []
    },
    {
      "cell_type": "code",
      "metadata": {
        "colab": {
          "base_uri": "https://localhost:8080/"
        },
        "id": "g1TWnMFM03Xt",
        "outputId": "e9b4d7ab-87eb-4f44-dcaf-474446067a54"
      },
      "source": [
        "train_generator = train_datagen.flow_from_dataframe(train_df, \n",
        "                                                    \"/content/drive/My Drive/data12/train\", \n",
        "                                                    x_col = 'filename', \n",
        "                                                    y_col = 'category',\n",
        "                                                    class_mode = 'binary',\n",
        "                                                    target_size = (400, 400), \n",
        "                                                    batch_size = batch_size,\n",
        "                                                   )"
      ],
      "execution_count": 57,
      "outputs": [
        {
          "output_type": "stream",
          "text": [
            "Found 640 validated image filenames belonging to 2 classes.\n"
          ],
          "name": "stdout"
        }
      ]
    },
    {
      "cell_type": "code",
      "metadata": {
        "colab": {
          "base_uri": "https://localhost:8080/"
        },
        "id": "bXMwCj_S1irf",
        "outputId": "bca54fb9-eeb7-4119-c451-ac4356d07e14"
      },
      "source": [
        "validation_generator = validation_datagen.flow_from_dataframe(validate_df, \n",
        "                                                    \"/content/drive/My Drive/data12/train\", \n",
        "                                                    x_col = 'filename', \n",
        "                                                    y_col = 'category',\n",
        "                                                    class_mode = 'binary',\n",
        "                                                    target_size = (400, 400), \n",
        "                                                    batch_size = batch_size,\n",
        "                                                   )\n"
      ],
      "execution_count": 58,
      "outputs": [
        {
          "output_type": "stream",
          "text": [
            "Found 160 validated image filenames belonging to 2 classes.\n"
          ],
          "name": "stdout"
        }
      ]
    },
    {
      "cell_type": "code",
      "metadata": {
        "id": "Lo-iohQy1_9F"
      },
      "source": [
        "from tensorflow.keras.callbacks import EarlyStopping\n",
        "\n",
        "earlystop = EarlyStopping(patience=10)\n",
        "\n",
        "callbacks = [earlystop]"
      ],
      "execution_count": 59,
      "outputs": []
    },
    {
      "cell_type": "code",
      "metadata": {
        "id": "Xl0C4dCk2dg9",
        "colab": {
          "base_uri": "https://localhost:8080/"
        },
        "outputId": "18165f6f-bdfa-4084-aed0-4dce42b1c25a"
      },
      "source": [
        "history = simple_model.fit(train_generator,\n",
        "                                epochs=5,     # 20\n",
        "                                validation_data = validation_generator,\n",
        "                                validation_steps=1,     \n",
        "                                steps_per_epoch=10,\n",
        "                                callbacks = callbacks\n",
        "                                )"
      ],
      "execution_count": 60,
      "outputs": [
        {
          "output_type": "stream",
          "text": [
            "Epoch 1/5\n",
            "10/10 [==============================] - 11s 814ms/step - loss: 1.9777 - accuracy: 0.5450 - val_loss: 8.8491 - val_accuracy: 0.5500\n",
            "Epoch 2/5\n",
            "10/10 [==============================] - 7s 698ms/step - loss: 0.9626 - accuracy: 0.6566 - val_loss: 27.2423 - val_accuracy: 0.6000\n",
            "Epoch 3/5\n",
            "10/10 [==============================] - 7s 737ms/step - loss: 1.0331 - accuracy: 0.5940 - val_loss: 29.8781 - val_accuracy: 0.5000\n",
            "Epoch 4/5\n",
            "10/10 [==============================] - 8s 761ms/step - loss: 0.8339 - accuracy: 0.6465 - val_loss: 13.3031 - val_accuracy: 0.7000\n",
            "Epoch 5/5\n",
            "10/10 [==============================] - 7s 707ms/step - loss: 0.8595 - accuracy: 0.5765 - val_loss: 24.0455 - val_accuracy: 0.5000\n"
          ],
          "name": "stdout"
        }
      ]
    },
    {
      "cell_type": "code",
      "metadata": {
        "colab": {
          "base_uri": "https://localhost:8080/",
          "height": 530
        },
        "id": "RYcfB3ogMd44",
        "outputId": "7e0916ca-394c-4954-a931-1d66aeee1f63"
      },
      "source": [
        "history_frame = pd.DataFrame(history.history)\n",
        "\n",
        "history_frame.loc[:, ['loss', 'val_loss']].plot()\n",
        "history_frame.loc[:, ['accuracy', 'val_accuracy']].plot()"
      ],
      "execution_count": 61,
      "outputs": [
        {
          "output_type": "execute_result",
          "data": {
            "text/plain": [
              "<matplotlib.axes._subplots.AxesSubplot at 0x7f12a45884d0>"
            ]
          },
          "metadata": {
            "tags": []
          },
          "execution_count": 61
        },
        {
          "output_type": "display_data",
          "data": {
            "image/png": "[encoded data removed]",
            "text/plain": [
              "<Figure size 432x288 with 1 Axes>"
            ]
          },
          "metadata": {
            "tags": [],
            "needs_background": "light"
          }
        },
        {
          "output_type": "display_data",
          "data": {
            "image/png": "[encoded data removed]",
            "text/plain": [
              "<Figure size 432x288 with 1 Axes>"
            ]
          },
          "metadata": {
            "tags": [],
            "needs_background": "light"
          }
        }
      ]
    },
    {
      "cell_type": "markdown",
      "metadata": {
        "id": "WdUNt2ETMDUZ"
      },
      "source": [
        "TRASFER LEARNING ARCHITECTURE--->VGG16 MODEL"
      ]
    },
    {
      "cell_type": "code",
      "metadata": {
        "id": "39SrmBDeApSz"
      },
      "source": [
        "from tensorflow.keras.applications.vgg16 import VGG16\n",
        "\n",
        "pretrained_base = VGG16(input_shape = input_shape, include_top = False, weights = 'imagenet')\n",
        "\n",
        "pretrained_base.trainable = False"
      ],
      "execution_count": 44,
      "outputs": []
    },
    {
      "cell_type": "code",
      "metadata": {
        "colab": {
          "base_uri": "https://localhost:8080/"
        },
        "id": "Ne-NAFKwAuBC",
        "outputId": "d6bc123f-3ccb-491a-c197-accf79296aef"
      },
      "source": [
        "x = layers.Flatten()(pretrained_base.output)\n",
        "\n",
        "x = layers.Dense(512, activation = 'relu')(x)\n",
        "\n",
        "x = layers.Dropout(0.5)(x)\n",
        "\n",
        "x = layers.Dense(1, activation = 'sigmoid')(x)\n",
        "\n",
        "model = keras.models.Model(pretrained_base.input, x)\n",
        "\n",
        "model.compile(loss = 'binary_crossentropy', optimizer = 'adam', metrics = ['accuracy'])\n",
        "\n",
        "model.summary()"
      ],
      "execution_count": 45,
      "outputs": [
        {
          "output_type": "stream",
          "text": [
            "Model: \"model_1\"\n",
            "_________________________________________________________________\n",
            "Layer (type)                 Output Shape              Param #   \n",
            "=================================================================\n",
            "input_2 (InputLayer)         [(None, 400, 400, 3)]     0         \n",
            "_________________________________________________________________\n",
            "block1_conv1 (Conv2D)        (None, 400, 400, 64)      1792      \n",
            "_________________________________________________________________\n",
            "block1_conv2 (Conv2D)        (None, 400, 400, 64)      36928     \n",
            "_________________________________________________________________\n",
            "block1_pool (MaxPooling2D)   (None, 200, 200, 64)      0         \n",
            "_________________________________________________________________\n",
            "block2_conv1 (Conv2D)        (None, 200, 200, 128)     73856     \n",
            "_________________________________________________________________\n",
            "block2_conv2 (Conv2D)        (None, 200, 200, 128)     147584    \n",
            "_________________________________________________________________\n",
            "block2_pool (MaxPooling2D)   (None, 100, 100, 128)     0         \n",
            "_________________________________________________________________\n",
            "block3_conv1 (Conv2D)        (None, 100, 100, 256)     295168    \n",
            "_________________________________________________________________\n",
            "block3_conv2 (Conv2D)        (None, 100, 100, 256)     590080    \n",
            "_________________________________________________________________\n",
            "block3_conv3 (Conv2D)        (None, 100, 100, 256)     590080    \n",
            "_________________________________________________________________\n",
            "block3_pool (MaxPooling2D)   (None, 50, 50, 256)       0         \n",
            "_________________________________________________________________\n",
            "block4_conv1 (Conv2D)        (None, 50, 50, 512)       1180160   \n",
            "_________________________________________________________________\n",
            "block4_conv2 (Conv2D)        (None, 50, 50, 512)       2359808   \n",
            "_________________________________________________________________\n",
            "block4_conv3 (Conv2D)        (None, 50, 50, 512)       2359808   \n",
            "_________________________________________________________________\n",
            "block4_pool (MaxPooling2D)   (None, 25, 25, 512)       0         \n",
            "_________________________________________________________________\n",
            "block5_conv1 (Conv2D)        (None, 25, 25, 512)       2359808   \n",
            "_________________________________________________________________\n",
            "block5_conv2 (Conv2D)        (None, 25, 25, 512)       2359808   \n",
            "_________________________________________________________________\n",
            "block5_conv3 (Conv2D)        (None, 25, 25, 512)       2359808   \n",
            "_________________________________________________________________\n",
            "block5_pool (MaxPooling2D)   (None, 12, 12, 512)       0         \n",
            "_________________________________________________________________\n",
            "flatten_3 (Flatten)          (None, 73728)             0         \n",
            "_________________________________________________________________\n",
            "dense_6 (Dense)              (None, 512)               37749248  \n",
            "_________________________________________________________________\n",
            "dropout_9 (Dropout)          (None, 512)               0         \n",
            "_________________________________________________________________\n",
            "dense_7 (Dense)              (None, 1)                 513       \n",
            "=================================================================\n",
            "Total params: 52,464,449\n",
            "Trainable params: 37,749,761\n",
            "Non-trainable params: 14,714,688\n",
            "_________________________________________________________________\n"
          ],
          "name": "stdout"
        }
      ]
    },
    {
      "cell_type": "code",
      "metadata": {
        "colab": {
          "base_uri": "https://localhost:8080/"
        },
        "id": "iudCB5iZAvxd",
        "outputId": "2d3bccd7-d265-4d5b-fecd-b7e4fcda22f3"
      },
      "source": [
        "history_vgg = model.fit(train_generator,\n",
        "                    epochs = 10,     # 20\n",
        "                    validation_data = validation_generator,\n",
        "                    validation_steps = 1,     \n",
        "                    steps_per_epoch = 10,\n",
        "                    callbacks = callbacks\n",
        "                    )"
      ],
      "execution_count": 46,
      "outputs": [
        {
          "output_type": "stream",
          "text": [
            "Epoch 1/10\n",
            "10/10 [==============================] - 66s 7s/step - loss: 8.8719 - accuracy: 0.5010 - val_loss: 2.2975 - val_accuracy: 0.6500\n",
            "Epoch 2/10\n",
            "10/10 [==============================] - 50s 5s/step - loss: 5.0988 - accuracy: 0.6196 - val_loss: 0.9635 - val_accuracy: 0.7500\n",
            "Epoch 3/10\n",
            "10/10 [==============================] - 38s 4s/step - loss: 3.7405 - accuracy: 0.6448 - val_loss: 2.4802 - val_accuracy: 0.6500\n",
            "Epoch 4/10\n",
            "10/10 [==============================] - 25s 2s/step - loss: 3.7809 - accuracy: 0.6670 - val_loss: 0.8855 - val_accuracy: 0.8500\n",
            "Epoch 5/10\n",
            "10/10 [==============================] - 20s 2s/step - loss: 2.6683 - accuracy: 0.6199 - val_loss: 1.5157 - val_accuracy: 0.6000\n",
            "Epoch 6/10\n",
            "10/10 [==============================] - 15s 1s/step - loss: 1.8286 - accuracy: 0.7064 - val_loss: 1.6434 - val_accuracy: 0.6500\n",
            "Epoch 7/10\n",
            "10/10 [==============================] - 17s 2s/step - loss: 1.1603 - accuracy: 0.7332 - val_loss: 0.7687 - val_accuracy: 0.6500\n",
            "Epoch 8/10\n",
            "10/10 [==============================] - 11s 1s/step - loss: 0.6874 - accuracy: 0.7343 - val_loss: 0.5006 - val_accuracy: 0.7500\n",
            "Epoch 9/10\n",
            "10/10 [==============================] - 11s 1s/step - loss: 0.5180 - accuracy: 0.7239 - val_loss: 0.5374 - val_accuracy: 0.6000\n",
            "Epoch 10/10\n",
            "10/10 [==============================] - 9s 909ms/step - loss: 0.4700 - accuracy: 0.7758 - val_loss: 0.6679 - val_accuracy: 0.6000\n"
          ],
          "name": "stdout"
        }
      ]
    },
    {
      "cell_type": "code",
      "metadata": {
        "id": "PWTZ0zI_A2rU",
        "colab": {
          "base_uri": "https://localhost:8080/",
          "height": 530
        },
        "outputId": "30db36bf-48cd-4821-a7a6-e068950f2b04"
      },
      "source": [
        "history_vgg_frame = pd.DataFrame(history_vgg.history)\n",
        "\n",
        "history_vgg_frame.loc[:, ['loss', 'val_loss']].plot()\n",
        "history_vgg_frame.loc[:, ['accuracy', 'val_accuracy']].plot()"
      ],
      "execution_count": 47,
      "outputs": [
        {
          "output_type": "execute_result",
          "data": {
            "text/plain": [
              "<matplotlib.axes._subplots.AxesSubplot at 0x7f12a4a6cd50>"
            ]
          },
          "metadata": {
            "tags": []
          },
          "execution_count": 47
        },
        {
          "output_type": "display_data",
          "data": {
            "image/png": "[encoded data removed]",
            "text/plain": [
              "<Figure size 432x288 with 1 Axes>"
            ]
          },
          "metadata": {
            "tags": [],
            "needs_background": "light"
          }
        },
        {
          "output_type": "display_data",
          "data": {
            "image/png": "[encoded data removed]",
            "text/plain": [
              "<Figure size 432x288 with 1 Axes>"
            ]
          },
          "metadata": {
            "tags": [],
            "needs_background": "light"
          }
        }
      ]
    }
  ]
}